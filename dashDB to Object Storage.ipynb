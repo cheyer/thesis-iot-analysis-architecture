{
 "cells": [
  {
   "cell_type": "markdown",
   "metadata": {
    "collapsed": true
   },
   "source": [
    "# DashDB to Object Storage Load\n",
    "This is a notebook to archive the data stored in DashDB and save it in the Parquet File Format in the Bluemix Object Storage."
   ]
  },
  {
   "cell_type": "code",
   "execution_count": 41,
   "metadata": {
    "collapsed": false
   },
   "outputs": [],
   "source": [
    "from pyspark.sql import SQLContext\n",
    "sqlContext = SQLContext(sc)"
   ]
  },
  {
   "cell_type": "markdown",
   "metadata": {},
   "source": [
    "### Add Data Source\n",
    "go to the Data Source tab on the right hand menu,  add source, from bluemix, and select my-dashdb. Next, select the line below and click on \"Insert to code\". The name of the credentials object should be **credentials_1**. Then click on the menu item \"Cell\" and click on \"Run All\"."
   ]
  },
  {
   "cell_type": "code",
   "execution_count": null,
   "metadata": {
    "collapsed": true
   },
   "outputs": [],
   "source": []
  },
  {
   "cell_type": "code",
   "execution_count": 43,
   "metadata": {
    "collapsed": false
   },
   "outputs": [
    {
     "data": {
      "text/html": [
       "<style>\n",
       "div#notebook {\n",
       "    background-color: #fafbfc;\n",
       "    border-top: none;\n",
       "}\n",
       "\n",
       "div#notebook-container {\n",
       "    background-color: #fafbfc;\n",
       "}\n",
       "</style>\n",
       "<script>\n",
       "code_show=true; \n",
       "function code_toggle() {\n",
       " if (code_show){\n",
       " $('div.input').hide();\n",
       " } else {\n",
       " $('div.input').show();\n",
       " }\n",
       " code_show = !code_show\n",
       "} \n",
       "$( document ).ready(code_toggle);\n",
       "</script>\n",
       "The raw code for this IPython notebook is by default hidden for easier reading.\n",
       "To toggle on/off the raw code, click <a href=\"javascript:code_toggle()\">here</a>."
      ],
      "text/plain": [
       "<IPython.core.display.HTML object>"
      ]
     },
     "execution_count": 43,
     "metadata": {},
     "output_type": "execute_result"
    }
   ],
   "source": [
    "from IPython.display import HTML\n",
    "HTML('''<style>\n",
    "div#notebook {\n",
    "    background-color: #fafbfc;\n",
    "    border-top: none;\n",
    "}\n",
    "\n",
    "div#notebook-container {\n",
    "    background-color: #fafbfc;\n",
    "}\n",
    "</style>\n",
    "<script>\n",
    "code_show=true; \n",
    "function code_toggle() {\n",
    " if (code_show){\n",
    " $('div.input').hide();\n",
    " } else {\n",
    " $('div.input').show();\n",
    " }\n",
    " code_show = !code_show\n",
    "} \n",
    "$( document ).ready(code_toggle);\n",
    "</script>\n",
    "The raw code for this IPython notebook is by default hidden for easier reading.\n",
    "To toggle on/off the raw code, click <a href=\"javascript:code_toggle()\">here</a>.''')"
   ]
  },
  {
   "cell_type": "code",
   "execution_count": 44,
   "metadata": {
    "collapsed": false
   },
   "outputs": [
    {
     "name": "stdout",
     "output_type": "stream",
     "text": [
      "URL: jdbc:db2://dashdb-entry-yp-dal09-09.services.dal.bluemix.net:50000/BLUDB:user=dash6233;password=TNthBxudaJtf;\n",
      "Table: dash6233.MYTABLE\n"
     ]
    }
   ],
   "source": [
    "url = credentials_1[\"jdbcurl\"]+\":user=\"+credentials_1[\"username\"]+\";password=\"+credentials_1[\"password\"]+\";\"\n",
    "table = credentials_1[\"username\"]+\".MYTABLE\"\n",
    "print \"URL:\", url\n",
    "print \"Table:\", table"
   ]
  },
  {
   "cell_type": "code",
   "execution_count": 45,
   "metadata": {
    "collapsed": false
   },
   "outputs": [],
   "source": [
    "# save dashDB data to DataFrame\n",
    "df = sqlContext.read.format('jdbc').options(url=url, dbtable=table).load()"
   ]
  },
  {
   "cell_type": "code",
   "execution_count": 46,
   "metadata": {
    "collapsed": true
   },
   "outputs": [],
   "source": [
    "# register data with table name\n",
    "df.registerTempTable(\"simdata\")"
   ]
  },
  {
   "cell_type": "code",
   "execution_count": 47,
   "metadata": {
    "collapsed": false
   },
   "outputs": [],
   "source": [
    "# query the table and save results to DataFrame\n",
    "df = sqlContext.sql(\"SELECT * FROM simdata\")"
   ]
  },
  {
   "cell_type": "markdown",
   "metadata": {},
   "source": [
    "First five elements"
   ]
  },
  {
   "cell_type": "code",
   "execution_count": 48,
   "metadata": {
    "collapsed": false
   },
   "outputs": [
    {
     "data": {
      "text/html": [
       "<div>\n",
       "<table border=\"1\" class=\"dataframe\">\n",
       "  <thead>\n",
       "    <tr style=\"text-align: right;\">\n",
       "      <th></th>\n",
       "      <th>TS</th>\n",
       "      <th>TEMPERATURE</th>\n",
       "      <th>LIGHT</th>\n",
       "      <th>DOOROPEN</th>\n",
       "      <th>WINDOWOPEN</th>\n",
       "      <th>HUMIDITY</th>\n",
       "      <th>OXYGEN</th>\n",
       "      <th>WATERCONSUMPTION</th>\n",
       "      <th>ENERGYCONSUMPTION</th>\n",
       "    </tr>\n",
       "  </thead>\n",
       "  <tbody>\n",
       "    <tr>\n",
       "      <th>0</th>\n",
       "      <td>2016-06-01T12:08:25.279Z</td>\n",
       "      <td>20</td>\n",
       "      <td>482</td>\n",
       "      <td>0</td>\n",
       "      <td>0</td>\n",
       "      <td>49</td>\n",
       "      <td>20</td>\n",
       "      <td>9</td>\n",
       "      <td>10</td>\n",
       "    </tr>\n",
       "    <tr>\n",
       "      <th>1</th>\n",
       "      <td>2016-06-01T12:09:25.283Z</td>\n",
       "      <td>20</td>\n",
       "      <td>481</td>\n",
       "      <td>0</td>\n",
       "      <td>0</td>\n",
       "      <td>45</td>\n",
       "      <td>20</td>\n",
       "      <td>10</td>\n",
       "      <td>10</td>\n",
       "    </tr>\n",
       "    <tr>\n",
       "      <th>2</th>\n",
       "      <td>2016-06-01T12:10:25.284Z</td>\n",
       "      <td>18</td>\n",
       "      <td>496</td>\n",
       "      <td>0</td>\n",
       "      <td>0</td>\n",
       "      <td>49</td>\n",
       "      <td>21</td>\n",
       "      <td>10</td>\n",
       "      <td>9</td>\n",
       "    </tr>\n",
       "    <tr>\n",
       "      <th>3</th>\n",
       "      <td>2016-06-01T12:15:25.294Z</td>\n",
       "      <td>18</td>\n",
       "      <td>498</td>\n",
       "      <td>0</td>\n",
       "      <td>0</td>\n",
       "      <td>51</td>\n",
       "      <td>20</td>\n",
       "      <td>10</td>\n",
       "      <td>10</td>\n",
       "    </tr>\n",
       "    <tr>\n",
       "      <th>4</th>\n",
       "      <td>2016-06-01T12:16:25.302Z</td>\n",
       "      <td>21</td>\n",
       "      <td>502</td>\n",
       "      <td>0</td>\n",
       "      <td>0</td>\n",
       "      <td>45</td>\n",
       "      <td>20</td>\n",
       "      <td>9</td>\n",
       "      <td>9</td>\n",
       "    </tr>\n",
       "  </tbody>\n",
       "</table>\n",
       "</div>"
      ],
      "text/plain": [
       "                         TS  TEMPERATURE  LIGHT  DOOROPEN  WINDOWOPEN  \\\n",
       "0  2016-06-01T12:08:25.279Z           20    482         0           0   \n",
       "1  2016-06-01T12:09:25.283Z           20    481         0           0   \n",
       "2  2016-06-01T12:10:25.284Z           18    496         0           0   \n",
       "3  2016-06-01T12:15:25.294Z           18    498         0           0   \n",
       "4  2016-06-01T12:16:25.302Z           21    502         0           0   \n",
       "\n",
       "   HUMIDITY  OXYGEN  WATERCONSUMPTION  ENERGYCONSUMPTION  \n",
       "0        49      20                 9                 10  \n",
       "1        45      20                10                 10  \n",
       "2        49      21                10                  9  \n",
       "3        51      20                10                 10  \n",
       "4        45      20                 9                  9  "
      ]
     },
     "execution_count": 48,
     "metadata": {},
     "output_type": "execute_result"
    }
   ],
   "source": [
    "df.toPandas().head()"
   ]
  },
  {
   "cell_type": "markdown",
   "metadata": {},
   "source": [
    "Last 5 elements"
   ]
  },
  {
   "cell_type": "code",
   "execution_count": 49,
   "metadata": {
    "collapsed": false
   },
   "outputs": [
    {
     "data": {
      "text/html": [
       "<div>\n",
       "<table border=\"1\" class=\"dataframe\">\n",
       "  <thead>\n",
       "    <tr style=\"text-align: right;\">\n",
       "      <th></th>\n",
       "      <th>TS</th>\n",
       "      <th>TEMPERATURE</th>\n",
       "      <th>LIGHT</th>\n",
       "      <th>DOOROPEN</th>\n",
       "      <th>WINDOWOPEN</th>\n",
       "      <th>HUMIDITY</th>\n",
       "      <th>OXYGEN</th>\n",
       "      <th>WATERCONSUMPTION</th>\n",
       "      <th>ENERGYCONSUMPTION</th>\n",
       "    </tr>\n",
       "  </thead>\n",
       "  <tbody>\n",
       "    <tr>\n",
       "      <th>8129</th>\n",
       "      <td>2016-06-15T09:13:33.133Z</td>\n",
       "      <td>20</td>\n",
       "      <td>515</td>\n",
       "      <td>0</td>\n",
       "      <td>0</td>\n",
       "      <td>48</td>\n",
       "      <td>20</td>\n",
       "      <td>10</td>\n",
       "      <td>9</td>\n",
       "    </tr>\n",
       "    <tr>\n",
       "      <th>8130</th>\n",
       "      <td>2016-06-15T09:14:33.137Z</td>\n",
       "      <td>18</td>\n",
       "      <td>507</td>\n",
       "      <td>0</td>\n",
       "      <td>0</td>\n",
       "      <td>49</td>\n",
       "      <td>21</td>\n",
       "      <td>9</td>\n",
       "      <td>9</td>\n",
       "    </tr>\n",
       "    <tr>\n",
       "      <th>8131</th>\n",
       "      <td>2016-06-15T09:15:33.143Z</td>\n",
       "      <td>21</td>\n",
       "      <td>489</td>\n",
       "      <td>0</td>\n",
       "      <td>0</td>\n",
       "      <td>54</td>\n",
       "      <td>20</td>\n",
       "      <td>10</td>\n",
       "      <td>9</td>\n",
       "    </tr>\n",
       "    <tr>\n",
       "      <th>8132</th>\n",
       "      <td>2016-06-15T09:16:33.147Z</td>\n",
       "      <td>20</td>\n",
       "      <td>502</td>\n",
       "      <td>0</td>\n",
       "      <td>0</td>\n",
       "      <td>46</td>\n",
       "      <td>21</td>\n",
       "      <td>10</td>\n",
       "      <td>9</td>\n",
       "    </tr>\n",
       "    <tr>\n",
       "      <th>8133</th>\n",
       "      <td>2016-06-15T09:17:33.153Z</td>\n",
       "      <td>19</td>\n",
       "      <td>493</td>\n",
       "      <td>0</td>\n",
       "      <td>0</td>\n",
       "      <td>52</td>\n",
       "      <td>21</td>\n",
       "      <td>10</td>\n",
       "      <td>9</td>\n",
       "    </tr>\n",
       "  </tbody>\n",
       "</table>\n",
       "</div>"
      ],
      "text/plain": [
       "                            TS  TEMPERATURE  LIGHT  DOOROPEN  WINDOWOPEN  \\\n",
       "8129  2016-06-15T09:13:33.133Z           20    515         0           0   \n",
       "8130  2016-06-15T09:14:33.137Z           18    507         0           0   \n",
       "8131  2016-06-15T09:15:33.143Z           21    489         0           0   \n",
       "8132  2016-06-15T09:16:33.147Z           20    502         0           0   \n",
       "8133  2016-06-15T09:17:33.153Z           19    493         0           0   \n",
       "\n",
       "      HUMIDITY  OXYGEN  WATERCONSUMPTION  ENERGYCONSUMPTION  \n",
       "8129        48      20                10                  9  \n",
       "8130        49      21                 9                  9  \n",
       "8131        54      20                10                  9  \n",
       "8132        46      21                10                  9  \n",
       "8133        52      21                10                  9  "
      ]
     },
     "execution_count": 49,
     "metadata": {},
     "output_type": "execute_result"
    }
   ],
   "source": [
    "df.toPandas().tail()"
   ]
  },
  {
   "cell_type": "code",
   "execution_count": 50,
   "metadata": {
    "collapsed": false
   },
   "outputs": [
    {
     "name": "stdout",
     "output_type": "stream",
     "text": [
      "Count: 8134\n"
     ]
    }
   ],
   "source": [
    "print \"Count:\", df.count()"
   ]
  },
  {
   "cell_type": "code",
   "execution_count": 51,
   "metadata": {
    "collapsed": true
   },
   "outputs": [],
   "source": [
    "# you can filter data you want to get here\n",
    "tosave = sqlContext.sql(\"SELECT * FROM simdata\")"
   ]
  },
  {
   "cell_type": "markdown",
   "metadata": {},
   "source": [
    "save as parquet file into object storage"
   ]
  },
  {
   "cell_type": "code",
   "execution_count": 52,
   "metadata": {
    "collapsed": false
   },
   "outputs": [],
   "source": [
    "# Save as parquet file\n",
    "tosave.write.parquet(\"swift://my-container.spark/simdata.parquet\", mode=\"overwrite\")"
   ]
  },
  {
   "cell_type": "markdown",
   "metadata": {},
   "source": [
    "read from object storage to verify success"
   ]
  },
  {
   "cell_type": "code",
   "execution_count": 53,
   "metadata": {
    "collapsed": true
   },
   "outputs": [],
   "source": [
    "parquetFile = sqlContext.read.parquet(\"swift://my-container.spark/simdata.parquet\")\n",
    "parquetFile.registerTempTable(\"saved\")"
   ]
  },
  {
   "cell_type": "code",
   "execution_count": 54,
   "metadata": {
    "collapsed": false
   },
   "outputs": [],
   "source": [
    "savedfile = sqlContext.sql(\"SELECT * FROM saved\")"
   ]
  },
  {
   "cell_type": "code",
   "execution_count": 55,
   "metadata": {
    "collapsed": false
   },
   "outputs": [
    {
     "data": {
      "text/html": [
       "<div>\n",
       "<table border=\"1\" class=\"dataframe\">\n",
       "  <thead>\n",
       "    <tr style=\"text-align: right;\">\n",
       "      <th></th>\n",
       "      <th>TS</th>\n",
       "      <th>TEMPERATURE</th>\n",
       "      <th>LIGHT</th>\n",
       "      <th>DOOROPEN</th>\n",
       "      <th>WINDOWOPEN</th>\n",
       "      <th>HUMIDITY</th>\n",
       "      <th>OXYGEN</th>\n",
       "      <th>WATERCONSUMPTION</th>\n",
       "      <th>ENERGYCONSUMPTION</th>\n",
       "    </tr>\n",
       "  </thead>\n",
       "  <tbody>\n",
       "    <tr>\n",
       "      <th>0</th>\n",
       "      <td>2016-05-31T10:21:11.855Z</td>\n",
       "      <td>10</td>\n",
       "      <td>50</td>\n",
       "      <td>0</td>\n",
       "      <td>0</td>\n",
       "      <td>7</td>\n",
       "      <td>45</td>\n",
       "      <td>87</td>\n",
       "      <td>23</td>\n",
       "    </tr>\n",
       "    <tr>\n",
       "      <th>1</th>\n",
       "      <td>2016-05-31T10:22:11.868Z</td>\n",
       "      <td>19</td>\n",
       "      <td>514</td>\n",
       "      <td>0</td>\n",
       "      <td>0</td>\n",
       "      <td>51</td>\n",
       "      <td>20</td>\n",
       "      <td>10</td>\n",
       "      <td>10</td>\n",
       "    </tr>\n",
       "    <tr>\n",
       "      <th>2</th>\n",
       "      <td>2016-05-31T10:23:11.884Z</td>\n",
       "      <td>18</td>\n",
       "      <td>486</td>\n",
       "      <td>0</td>\n",
       "      <td>0</td>\n",
       "      <td>45</td>\n",
       "      <td>21</td>\n",
       "      <td>9</td>\n",
       "      <td>10</td>\n",
       "    </tr>\n",
       "    <tr>\n",
       "      <th>3</th>\n",
       "      <td>2016-05-31T10:24:11.893Z</td>\n",
       "      <td>20</td>\n",
       "      <td>485</td>\n",
       "      <td>0</td>\n",
       "      <td>0</td>\n",
       "      <td>45</td>\n",
       "      <td>21</td>\n",
       "      <td>9</td>\n",
       "      <td>10</td>\n",
       "    </tr>\n",
       "    <tr>\n",
       "      <th>4</th>\n",
       "      <td>2016-05-31T10:25:11.909Z</td>\n",
       "      <td>18</td>\n",
       "      <td>505</td>\n",
       "      <td>0</td>\n",
       "      <td>0</td>\n",
       "      <td>45</td>\n",
       "      <td>20</td>\n",
       "      <td>9</td>\n",
       "      <td>10</td>\n",
       "    </tr>\n",
       "  </tbody>\n",
       "</table>\n",
       "</div>"
      ],
      "text/plain": [
       "                         TS  TEMPERATURE  LIGHT  DOOROPEN  WINDOWOPEN  \\\n",
       "0  2016-05-31T10:21:11.855Z           10     50         0           0   \n",
       "1  2016-05-31T10:22:11.868Z           19    514         0           0   \n",
       "2  2016-05-31T10:23:11.884Z           18    486         0           0   \n",
       "3  2016-05-31T10:24:11.893Z           20    485         0           0   \n",
       "4  2016-05-31T10:25:11.909Z           18    505         0           0   \n",
       "\n",
       "   HUMIDITY  OXYGEN  WATERCONSUMPTION  ENERGYCONSUMPTION  \n",
       "0         7      45                87                 23  \n",
       "1        51      20                10                 10  \n",
       "2        45      21                 9                 10  \n",
       "3        45      21                 9                 10  \n",
       "4        45      20                 9                 10  "
      ]
     },
     "execution_count": 55,
     "metadata": {},
     "output_type": "execute_result"
    }
   ],
   "source": [
    "savedfile.toPandas().head()"
   ]
  },
  {
   "cell_type": "code",
   "execution_count": 56,
   "metadata": {
    "collapsed": false
   },
   "outputs": [
    {
     "data": {
      "text/plain": [
       "8134"
      ]
     },
     "execution_count": 56,
     "metadata": {},
     "output_type": "execute_result"
    }
   ],
   "source": [
    "savedfile.count()"
   ]
  },
  {
   "cell_type": "code",
   "execution_count": null,
   "metadata": {
    "collapsed": true
   },
   "outputs": [],
   "source": []
  },
  {
   "cell_type": "code",
   "execution_count": null,
   "metadata": {
    "collapsed": true
   },
   "outputs": [],
   "source": []
  }
 ],
 "metadata": {
  "kernelspec": {
   "display_name": "Python 2",
   "language": "python",
   "name": "python2"
  },
  "language_info": {
   "codemirror_mode": {
    "name": "ipython",
    "version": 2
   },
   "file_extension": ".py",
   "mimetype": "text/x-python",
   "name": "python",
   "nbconvert_exporter": "python",
   "pygments_lexer": "ipython2",
   "version": "2.7.11"
  }
 },
 "nbformat": 4,
 "nbformat_minor": 0
}